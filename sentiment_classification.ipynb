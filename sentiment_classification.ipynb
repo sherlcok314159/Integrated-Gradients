{
 "cells": [
  {
   "cell_type": "code",
   "execution_count": 1,
   "metadata": {},
   "outputs": [],
   "source": [
    "from integrated_gradients import *\n",
    "from transformers import BertConfig, BertTokenizer, BertForSequenceClassification"
   ]
  },
  {
   "cell_type": "code",
   "execution_count": 2,
   "metadata": {},
   "outputs": [
    {
     "data": {
      "text/html": [
       "<style>.neg1{color: rgb(0, 190, 0);}</style><a class=neg1>i</a>&nbsp;&nbsp;&nbsp;<style>.orig0{color: rgb(255, 255, 255);}</style><a class=orig0>am</a>&nbsp;&nbsp;&nbsp;<style>.orig0{color: rgb(255, 255, 255);}</style><a class=orig0>happy</a>&nbsp;&nbsp;&nbsp;<style>.neg0{color: rgb(0, 255, 0);}</style><a class=neg0>because</a>&nbsp;&nbsp;&nbsp;<style>.neg2{color: rgb(0, 125, 0);}</style><a class=neg2>the</a>&nbsp;&nbsp;&nbsp;<style>.pos2{color: rgb(125, 0, 0);}</style><a class=pos2>weather</a>&nbsp;&nbsp;&nbsp;<style>.orig0{color: rgb(255, 255, 255);}</style><a class=orig0>is</a>&nbsp;&nbsp;&nbsp;<style>.orig0{color: rgb(255, 255, 255);}</style><a class=orig0>extremely</a>&nbsp;&nbsp;&nbsp;<style>.pos1{color: rgb(190, 0, 0);}</style><a class=pos1>good</a>&nbsp;&nbsp;&nbsp;<style>.pos0{color: rgb(255, 0, 0);}</style><a class=pos0>!</a>&nbsp;&nbsp;&nbsp;<a class=orig0>LABEL ==> 1</a>"
      ],
      "text/plain": [
       "<IPython.core.display.HTML object>"
      ]
     },
     "metadata": {},
     "output_type": "display_data"
    },
    {
     "data": {
      "text/html": [
       "<style>.neg2{color: rgb(0, 125, 0);}</style><a class=neg2>this</a>&nbsp;&nbsp;&nbsp;<style>.orig0{color: rgb(255, 255, 255);}</style><a class=orig0>film</a>&nbsp;&nbsp;&nbsp;<style>.orig0{color: rgb(255, 255, 255);}</style><a class=orig0>is</a>&nbsp;&nbsp;&nbsp;<style>.pos0{color: rgb(255, 0, 0);}</style><a class=pos0>bad</a>&nbsp;&nbsp;&nbsp;<style>.pos2{color: rgb(125, 0, 0);}</style><a class=pos2>!</a>&nbsp;&nbsp;&nbsp;<style>.neg0{color: rgb(0, 255, 0);}</style><a class=neg0>i</a>&nbsp;&nbsp;&nbsp;<style>.pos1{color: rgb(190, 0, 0);}</style><a class=pos1>hate</a>&nbsp;&nbsp;&nbsp;<style>.neg1{color: rgb(0, 190, 0);}</style><a class=neg1>it</a>&nbsp;&nbsp;&nbsp;<style>.pos2{color: rgb(125, 0, 0);}</style><a class=pos2>!</a>&nbsp;&nbsp;&nbsp;<a class=orig0>LABEL ==> 0</a>"
      ],
      "text/plain": [
       "<IPython.core.display.HTML object>"
      ]
     },
     "metadata": {},
     "output_type": "display_data"
    }
   ],
   "source": [
    "# for sentiment classification\n",
    "pretrain_path = \"fabriceyhc/bert-base-uncased-imdb\"\n",
    "bert_config = BertConfig.from_pretrained(pretrain_path)\n",
    "bert_config.output_hidden_states = True\n",
    "model = BertForSequenceClassification.from_pretrained(pretrain_path, config=bert_config).cuda()\n",
    "\n",
    "tk = BertTokenizer.from_pretrained(pretrain_path)\n",
    "input_text = [\"I am happy because the weather is extremely good!\",\n",
    "              \"This film is bad! I hate it!\"]\n",
    "inputs = tk(input_text, max_length=128, return_tensors=\"pt\", truncation=True, padding=True)\n",
    "inputs = {k: v.cuda() for k, v in inputs.items()}\n",
    "grads, labels = get_integrated_gradients(model, **inputs)\n",
    "scores = get_scores(grads)\n",
    "tok_text = [tk.tokenize(t) for t in input_text]\n",
    "# get the top-3 strong and weak correlation\n",
    "positives, negatives, tok_text = get_related(tok_text, scores, 3)\n",
    "# red for strong correlation\n",
    "# green for weak correlation\n",
    "visualize(tok_text, positives, negatives, labels)"
   ]
  },
  {
   "cell_type": "code",
   "execution_count": null,
   "metadata": {},
   "outputs": [],
   "source": []
  }
 ],
 "metadata": {
  "kernelspec": {
   "display_name": "Python 3.8.8 ('base')",
   "language": "python",
   "name": "python3"
  },
  "language_info": {
   "codemirror_mode": {
    "name": "ipython",
    "version": 3
   },
   "file_extension": ".py",
   "mimetype": "text/x-python",
   "name": "python",
   "nbconvert_exporter": "python",
   "pygments_lexer": "ipython3",
   "version": "3.8.8"
  },
  "orig_nbformat": 4,
  "vscode": {
   "interpreter": {
    "hash": "5c4590bf2d3468efc31a2644735443d7129475db15d3a9123d91cb9c3c861e16"
   }
  }
 },
 "nbformat": 4,
 "nbformat_minor": 2
}
